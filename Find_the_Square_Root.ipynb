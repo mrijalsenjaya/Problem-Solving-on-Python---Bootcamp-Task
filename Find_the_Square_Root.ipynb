{
  "nbformat": 4,
  "nbformat_minor": 0,
  "metadata": {
    "colab": {
      "provenance": []
    },
    "kernelspec": {
      "name": "python3",
      "display_name": "Python 3"
    },
    "language_info": {
      "name": "python"
    }
  },
  "cells": [
    {
      "cell_type": "markdown",
      "metadata": {
        "id": "1ydxvEez64q3"
      },
      "source": [
        "### Problem : Find the Square Root!"
      ]
    },
    {
      "cell_type": "markdown",
      "metadata": {
        "id": "nvcBPlgV64q5"
      },
      "source": [
        "Create a function whose name is ```square_root``` that does the following:\n",
        "\n",
        "Given a second order polynomial, find the roots (roots should be in real number). The input will be 3 numbers, each of them representing 'a', 'b', and 'c', in ax^2 + bx + c = 0.\n",
        "\n",
        "Your task is to find the root of ax^2 + bx + c = 0. \n",
        "\n",
        "However, notice that sometimes an equation cannot be solved, or they have only one solution instead of two. Your function should also take this into consideration. \n",
        "\n",
        "The input of your function is 3 numbers, first number is the 'a' constant, second number is the 'b' constant, and third number is the 'c' constant.\n",
        "\n",
        "##### Example 1:\n",
        "\n",
        "Input: a = 1, b = -5, c = 6.\n",
        "\n",
        "This means, the equation is 1x^2 - 5x + 6 = 0. \n",
        "This equation has two solutions, the first solution is x = 3, and the second solution is x = 2. So, your output should be:\n",
        "\n",
        "Output: 'X1 = 3, X2 = 2'.\n",
        "\n",
        "When we run the code ```square_root(1, -5, 6)``` the output will be: 'X1 = 3, X2 = 2'\n",
        "\n",
        "##### Example 2:\n",
        "\n",
        "Input: a = 2, b = 4, c = 2.\n",
        "\n",
        "This means, the equation is 2x^2 + 4x + 2 = 0. \n",
        "This equation has only one solution, which is x = -1. \n",
        "\n",
        "Output; 'X = -1'.\n",
        "\n",
        "##### Example 3:\n",
        "\n",
        "Input: a = 1, b = 1, c = 9.\n",
        "\n",
        "This means, the equation is x^2 + x + 9 = 0.\n",
        "This equation has no real solution. (If you have learned about imaginary or complex numbers, the solution of this equation is those kind of numbers. But here, we're just going to deal with real numbers).\n",
        "\n",
        "Output: 'No solution'."
      ]
    },
    {
      "cell_type": "code",
      "source": [
        "# Import the required library\n",
        "from math import sqrt\n",
        "\n",
        "# Make a function\n",
        "def square_root(a, b, c):\n",
        "\n",
        "# Define the type of inputs\n",
        "  a = float(a)\n",
        "  b = float(b)\n",
        "  c = float(c)\n",
        "\n",
        "# Define if condition and the result\n",
        "  if b**2-4*a*c < 0:\n",
        "    print(\"No Solution\")\n",
        "  elif b**2-4*a*c == 0:\n",
        "    print(\"X =\",(-b+sqrt(b**2-4*a*c))/(2*a))\n",
        "  else:\n",
        "    print(\"X1 =\",((-b+sqrt(b**2-4*a*c))/(2*a)),\", X2 =\",((-b-sqrt(b**2-4*a*c))/(2*a)))"
      ],
      "metadata": {
        "id": "I3GRTyzie0lL"
      },
      "execution_count": null,
      "outputs": []
    },
    {
      "cell_type": "code",
      "source": [
        "# Test the function\n",
        "square_root(1, 1, 9)"
      ],
      "metadata": {
        "colab": {
          "base_uri": "https://localhost:8080/"
        },
        "id": "wVPqvlbpe0gZ",
        "outputId": "68612acc-cbee-47be-f357-09ed4cacdac2"
      },
      "execution_count": null,
      "outputs": [
        {
          "output_type": "stream",
          "name": "stdout",
          "text": [
            "No Solution\n"
          ]
        }
      ]
    }
  ]
}