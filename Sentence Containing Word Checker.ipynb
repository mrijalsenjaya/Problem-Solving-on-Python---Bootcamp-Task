{
  "nbformat": 4,
  "nbformat_minor": 0,
  "metadata": {
    "colab": {
      "provenance": [],
      "collapsed_sections": []
    },
    "kernelspec": {
      "name": "python3",
      "display_name": "Python 3"
    },
    "language_info": {
      "name": "python"
    }
  },
  "cells": [
    {
      "cell_type": "markdown",
      "source": [
        "Task 2: Checking If The Sentence Containing Blacklist Word\n",
        "\n",
        "---\n",
        "\n"
      ],
      "metadata": {
        "id": "bOnSKv4StEiF"
      }
    },
    {
      "cell_type": "code",
      "source": [
        "# Membuat list kosong untuk menampung data input\n",
        "y = []\n",
        "\n",
        "# Menuliskan list kata-kata yang dijadikan Blacklist Words\n",
        "black_list_word = ['andi', 'susi', 'bola']\n",
        "\n",
        "# Membuat formula input\n",
        "sent_ = input('Tulis kalimat yang ingin di-cek:')\n",
        "\n",
        "# Menambahkan data input ke dalam list y\n",
        "for items in sent_.split():\n",
        "    y.append(items)\n",
        "\n",
        "# Menentukan fungsi dan conditional untuk Output\n",
        "res = any(x in black_list_word for x in y)\n",
        "if res is True:\n",
        "  print('ada blacklist word')\n",
        "else:\n",
        "  print('Tidak ada blacklist word')\n",
        "\n"
      ],
      "metadata": {
        "id": "n-bN0LDftRqI",
        "colab": {
          "base_uri": "https://localhost:8080/"
        },
        "outputId": "02eade1d-8b2b-44d9-b66f-69927588e4eb"
      },
      "execution_count": 27,
      "outputs": [
        {
          "output_type": "stream",
          "name": "stdout",
          "text": [
            "Tulis kalimat yang ingin di-cek:raffa sedang makan bermain bola\n",
            "ada blacklist word\n"
          ]
        }
      ]
    }
  ]
}