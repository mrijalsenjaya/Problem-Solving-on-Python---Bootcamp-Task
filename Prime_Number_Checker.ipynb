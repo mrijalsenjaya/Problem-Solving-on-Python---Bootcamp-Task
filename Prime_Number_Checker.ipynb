{
  "nbformat": 4,
  "nbformat_minor": 0,
  "metadata": {
    "colab": {
      "provenance": []
    },
    "kernelspec": {
      "name": "python3",
      "display_name": "Python 3"
    },
    "language_info": {
      "name": "python"
    }
  },
  "cells": [
    {
      "cell_type": "code",
      "execution_count": 1,
      "metadata": {
        "id": "1hTHL74Y0lvK"
      },
      "outputs": [],
      "source": [
        "def prime_check(x):\n",
        "  if x > 1:\n",
        "    for i in range(2,x):\n",
        "      if x%i == 0:\n",
        "        print(x, \"is NOT a Prime Number\")\n",
        "        break\n",
        "    else:\n",
        "      print(x, \"is a Prime Number\")\n",
        "  else:\n",
        "        print(x, \"is NOT a Prime Number\")"
      ]
    },
    {
      "cell_type": "code",
      "source": [
        "prime_check(15)"
      ],
      "metadata": {
        "colab": {
          "base_uri": "https://localhost:8080/"
        },
        "id": "mkEQ06Ot06aU",
        "outputId": "866d84ca-c4f2-45ec-a6a7-df6ecb7decbc"
      },
      "execution_count": 4,
      "outputs": [
        {
          "output_type": "stream",
          "name": "stdout",
          "text": [
            "15 is NOT a Prime Number\n"
          ]
        }
      ]
    }
  ]
}