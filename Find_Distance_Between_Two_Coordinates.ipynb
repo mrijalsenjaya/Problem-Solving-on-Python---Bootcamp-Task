{
  "nbformat": 4,
  "nbformat_minor": 0,
  "metadata": {
    "colab": {
      "provenance": []
    },
    "kernelspec": {
      "name": "python3",
      "display_name": "Python 3"
    },
    "language_info": {
      "name": "python"
    }
  },
  "cells": [
    {
      "cell_type": "markdown",
      "metadata": {
        "id": "NntHmMB164q-"
      },
      "source": [
        "### Problem : Find Distance Between Two Coordinates "
      ]
    },
    {
      "cell_type": "markdown",
      "metadata": {
        "id": "12EaDJlE64q_"
      },
      "source": [
        "Create a function called ```distance``` that does the following:\n",
        "\n",
        "Given two coordinates in a list. Your task is to calculate the distance between these two coordinates. The input of your function will be two list. Each list contains 2 members, representing the x and y position.\n",
        "\n",
        "##### Example 1:\n",
        "\n",
        "Input: \n",
        "\n",
        "point_1 = [5, 5]\n",
        "\n",
        "point_2 = [1, 2]\n",
        "\n",
        "This means, the first point's coordinate is (5,5), the second point's coordinate is (1,2). To calculate the distance between these two points, we use the usual euclidean distance formula here: https://wikimedia.org/api/rest_v1/media/math/render/svg/2e0c9ce1b3455cb9e92c6bad6684dbda02f69c82. \n",
        "\n",
        "The distance is: \n",
        "\n",
        "Square root of ((5-1)^2 + (5-2)^2) = Square root of (16 + 9) = Square root of (25) = 5.\n",
        "\n",
        "Output: 'The distance is 5.'\n",
        "\n",
        "So, when we run the code ```distance(point_1, point_2)``` the output will be 'The distance is 5'.\n",
        "\n",
        "##### Example 2:\n",
        "\n",
        "Input:\n",
        "\n",
        "point_1 = [0,-1]\n",
        "\n",
        "point_2 = [-3, 2]\n",
        "\n",
        "The first coordinate is (0,-1), the second coordinate is (-3,2). The distance between them is:\n",
        "\n",
        "Square root of ((0- -3)^2 + (-1-2)^2) = Square root of (9 + 9) = Square root of (18) = 4.242640687\n",
        "\n",
        "Output: 'The distance is 4.242640687'.\n",
        "\n",
        "So, when we run the code ```distance(point_1, point_2)``` the output will be 'The distance is 4.242640487'.\n",
        "\n",
        "##### FAQ:\n",
        "\n",
        "- Question: \"Desimalnya dibuletin ga?\"\n",
        "- Answer: \"Ga usah peduliin format output desimalnya. Mau keluar berapa angka di belakang koma gpp kok. Yang penting value nya bener.\" "
      ]
    },
    {
      "cell_type": "code",
      "metadata": {
        "id": "4rmwX2y564rA"
      },
      "source": [
        "# Import the required library\n",
        "import math\n",
        "import numpy as np\n",
        "\n",
        "# Make a function\n",
        "def distance(point_1, point_2):\n",
        "\n",
        "  # Convert the inputs to array\n",
        "  a = np.array(point_1)\n",
        "  b = np.array(point_2)\n",
        "\n",
        "  # Operating to get the result\n",
        "  selisih = a - b\n",
        "  list_selisih = selisih.tolist()\n",
        "\n",
        "  #Output\n",
        "  print('The distance is', (math.sqrt(list_selisih[0]**2 + list_selisih[1]**2)))"
      ],
      "execution_count": null,
      "outputs": []
    },
    {
      "cell_type": "code",
      "source": [
        "# Test the function\n",
        "distance([5,5], [1,2])"
      ],
      "metadata": {
        "colab": {
          "base_uri": "https://localhost:8080/"
        },
        "id": "v-GUuA_mkioI",
        "outputId": "475d3918-3673-4725-f8fa-0383d30e4540"
      },
      "execution_count": null,
      "outputs": [
        {
          "output_type": "stream",
          "name": "stdout",
          "text": [
            "The distance is 5.0\n"
          ]
        }
      ]
    }
  ]
}