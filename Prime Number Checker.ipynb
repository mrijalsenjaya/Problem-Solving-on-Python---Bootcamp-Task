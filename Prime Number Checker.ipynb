{
  "nbformat": 4,
  "nbformat_minor": 0,
  "metadata": {
    "colab": {
      "provenance": []
    },
    "kernelspec": {
      "name": "python3",
      "display_name": "Python 3"
    },
    "language_info": {
      "name": "python"
    }
  },
  "cells": [
    {
      "cell_type": "markdown",
      "source": [
        "Prime Number Checker\n",
        "\n",
        "---\n",
        "\n"
      ],
      "metadata": {
        "id": "6ssLL_h0Gads"
      }
    },
    {
      "cell_type": "code",
      "source": [
        "def prime_check(x):\n",
        "  if x == 1 :\n",
        "    print(x, \"is NOT a Prime Number\")\n",
        "  elif x == 2 :\n",
        "    print(x, \"is a Prime Number\")\n",
        "  elif x % 2 != 0 :\n",
        "    print(x, \"is a Prime Number\")\n",
        "  else:\n",
        "    print(x, \"is NOT a Prime Number\")"
      ],
      "metadata": {
        "id": "62UjiD_tGesy"
      },
      "execution_count": null,
      "outputs": []
    }
  ]
}