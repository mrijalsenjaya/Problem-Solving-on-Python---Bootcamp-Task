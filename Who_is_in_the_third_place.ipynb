{
  "nbformat": 4,
  "nbformat_minor": 0,
  "metadata": {
    "colab": {
      "provenance": []
    },
    "kernelspec": {
      "name": "python3",
      "display_name": "Python 3"
    },
    "language_info": {
      "name": "python"
    }
  },
  "cells": [
    {
      "cell_type": "markdown",
      "metadata": {
        "id": "79NwqjIq64qr"
      },
      "source": [
        "### Problem : Who is in the third place?"
      ]
    },
    {
      "cell_type": "markdown",
      "metadata": {
        "id": "9db_O8Co64qs"
      },
      "source": [
        "Create a function whose name is ```third_place``` that does the following: \n",
        "\n",
        "Given a list of test score and a list of participants name. The desired output would be the name of the participant who gets the 3rd best score. The rule of determining the order of the best score is as follows:\n",
        "- Higher score is better\n",
        "- In case of multiple participants having the same test score, they can occupy the same ranking value. For example, if 2 participants scored 100, then both of them occupy the first place. \n",
        "\n",
        "The first input of the function is the name list, and the second input to the function is the score list.\n",
        "\n",
        "##### Example 1:\n",
        "\n",
        "Input:\n",
        "\n",
        "names = [Andi, Budi, Charlie, Dilan, Echa]\n",
        "\n",
        "score = [80, 90, 95, 100, 85]\n",
        "\n",
        "This means, Andi gets 80, Budi gets 90, Charlie gets 95, Dilan gets 100, and Echa gets 85. The first best score is 100, and Dilan gets it. The second best score is 95, and Charlie gets it. The third best score is 90, and Budi gets it. So, our output should be Budi.\n",
        "\n",
        "Output: 'The third winner: Budi'.\n",
        "\n",
        "When we run ```third_place(names, score)```, the output will be 'The third winner: Budi'.\n",
        "\n",
        "##### Example 2:\n",
        "\n",
        "Input:\n",
        "\n",
        "names = [Andi, Budi, Charlie, Dilan, Echa]\n",
        "\n",
        "score = [80, 80, 80, 100, 90]\n",
        "\n",
        "This means, Andi, Budi, and Charlie gets 80, Dilan gets 100, and Echa gets 90. The third best score is 80, and our output should list ALL of the participants who get 80. \n",
        "\n",
        "Output: 'The third winner: Andi, Budi, Charlie'.\n",
        "\n",
        "When we run ```third_place(names, score)```, the output will be 'The third winner: Andi, Budi, Charlie'.\n",
        "\n",
        "\n",
        "##### Example 3:\n",
        "\n",
        "Input:\n",
        "\n",
        "names = [Andi, Budi, Charlie, Dilan, Echa, Fanya]\n",
        "\n",
        "score = [80, 90, 90, 100, 100, 80]\n",
        "\n",
        "The first best score (first winner) is 100 - Dilan and Echa shared this position. The second best score (second winner) is 90 - Budi and Charlie shared this position. The third best score (third winner) is 80, and it is shared by Andi and Fanya. So, our output should be Andi and Fanya.\n",
        "\n",
        "Output: 'The third winner: Andi, Fanya'."
      ]
    },
    {
      "cell_type": "code",
      "source": [
        "# Import the required library\n",
        "import pandas as pd\n",
        "import re\n",
        "\n",
        "# Make a function\n",
        "def third_place(names, score):\n",
        "\n",
        "  # Convert the inputs to dictionary\n",
        "    y = dict({'Nama':names})\n",
        "    x = dict({'Skor':score})\n",
        "\n",
        "    # Convert each dictionaries to data frame and concatenate them\n",
        "    dfy = pd.DataFrame([y])\n",
        "    dfx = pd.DataFrame([x])\n",
        "    df = pd.concat([dfy, dfx], axis = 1)\n",
        "\n",
        "    # Explode the cells of 'Nama' and \"Skor\" from one row to many\n",
        "    df_nama = df['Nama'].explode().reset_index()\n",
        "    df_skor = df['Skor'].explode().reset_index()\n",
        "    df = pd.concat([df_nama, df_skor], axis = 1)\n",
        "    df = df.drop(columns=\"index\")\n",
        "\n",
        "    # Group the data frame by 'Skor' column\n",
        "    df_groupby = df.groupby('Skor').sum().sort_values(['Skor'], ascending = False)\n",
        "    \n",
        "    # Select the name for third rank\n",
        "    result = df_groupby.iloc[2].values[0]\n",
        "    final_result = re.findall('[A-Z][^A-Z]*', result)\n",
        "    the_name = ' dan '.join(map(str, final_result))\n",
        "\n",
        "    # Output\n",
        "    print('The third rank is :', the_name)"
      ],
      "metadata": {
        "id": "Ur1K8U5Qy3gC"
      },
      "execution_count": null,
      "outputs": []
    },
    {
      "cell_type": "code",
      "source": [
        "# Please use \"\" for input the name\n",
        "third_place(['Andi', 'Budi', 'Charlie', 'Dilan', 'Echa', 'Fanya'], [80, 90, 90, 100, 100, 80])"
      ],
      "metadata": {
        "colab": {
          "base_uri": "https://localhost:8080/"
        },
        "id": "-zNKfJCyy23_",
        "outputId": "96905608-84dc-4074-ddb2-27beaa13c6fe"
      },
      "execution_count": null,
      "outputs": [
        {
          "output_type": "stream",
          "name": "stdout",
          "text": [
            "The third rank is : Andi dan Fanya\n"
          ]
        }
      ]
    }
  ]
}