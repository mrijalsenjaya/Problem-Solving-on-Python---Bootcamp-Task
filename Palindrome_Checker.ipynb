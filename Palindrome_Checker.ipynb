{
  "nbformat": 4,
  "nbformat_minor": 0,
  "metadata": {
    "colab": {
      "provenance": [],
      "collapsed_sections": []
    },
    "kernelspec": {
      "name": "python3",
      "display_name": "Python 3"
    },
    "language_info": {
      "name": "python"
    }
  },
  "cells": [
    {
      "cell_type": "markdown",
      "source": [
        "Task 1 : Pengecekan Kata Palindrom\n",
        "\n",
        "---\n",
        "\n"
      ],
      "metadata": {
        "id": "Z2Twt8Ioi1iM"
      }
    },
    {
      "cell_type": "code",
      "source": [
        "# Membuat list kosong untuk menampung data input\n",
        "check_kata=[]\n",
        "\n",
        "# Membuat formula input data\n",
        "kata = input('Masukkan Kata yang Ingin di-Cek: ')\n",
        "\n",
        "# Memasukkan data input ke dalam list check_kata\n",
        "for x in kata:\n",
        "    check_kata.append(x)\n",
        "    y = (check_kata)\n",
        "\n",
        "# Menduplikasi list dan membalikkan urutan list\n",
        "z = y.copy()\n",
        "y.reverse()\n",
        "\n",
        "# Menentukan fungsi dan kondisi untuk output\n",
        "if z == y:\n",
        "  print(kata, 'adalah kata palindrom')\n",
        "else :\n",
        "  print(kata, 'bukan kata palindrom')"
      ],
      "metadata": {
        "colab": {
          "base_uri": "https://localhost:8080/"
        },
        "id": "8aK1IULdYo-e",
        "outputId": "2d976c0f-5ee9-42fb-e298-4ccc5ca0743d"
      },
      "execution_count": null,
      "outputs": [
        {
          "output_type": "stream",
          "name": "stdout",
          "text": [
            "Masukkan Kata yang Ingin di-Cek: malam\n",
            "malam adalah kata palindrom\n"
          ]
        }
      ]
    }
  ]
}